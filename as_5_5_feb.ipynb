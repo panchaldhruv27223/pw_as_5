{
 "cells": [
  {
   "cell_type": "markdown",
   "id": "37a8fe52",
   "metadata": {},
   "source": [
    "Q1. Explain Class and Object with respect to Object-Oriented Programming. Give a suitable example."
   ]
  },
  {
   "cell_type": "code",
   "execution_count": null,
   "id": "b41688ac",
   "metadata": {},
   "outputs": [],
   "source": [
    "class is a blue print of methods or function , from which objects are created \n",
    "object is a instance of class  "
   ]
  },
  {
   "cell_type": "code",
   "execution_count": 3,
   "id": "4273c0f4",
   "metadata": {},
   "outputs": [
    {
     "name": "stdout",
     "output_type": "stream",
     "text": [
      "good morning\n"
     ]
    }
   ],
   "source": [
    "class demo:\n",
    "    def __init__(self):\n",
    "        print(\"good morning\")\n",
    "    \n",
    "d1 = demo()\n",
    "\n",
    "# d1 is instance and demo is class"
   ]
  },
  {
   "cell_type": "markdown",
   "id": "1e925de2",
   "metadata": {},
   "source": [
    "Q2. Name the four pillars of OOPs."
   ]
  },
  {
   "cell_type": "code",
   "execution_count": null,
   "id": "8cfc7103",
   "metadata": {},
   "outputs": [],
   "source": [
    "four pillars of oops are :\n",
    "    1.abstraction \n",
    "    2.encapsulation \n",
    "    3.inheritance \n",
    "    4.Polymorphism"
   ]
  },
  {
   "cell_type": "markdown",
   "id": "566e61aa",
   "metadata": {},
   "source": [
    "Q3. Explain why the __init__() function is used. Give a suitable example."
   ]
  },
  {
   "cell_type": "code",
   "execution_count": null,
   "id": "25e10db1",
   "metadata": {},
   "outputs": [],
   "source": [
    "#  init function used as construction in python . using init function we can pass data to class variable .\n",
    "#  init function work like set the data we can say like setter . "
   ]
  },
  {
   "cell_type": "code",
   "execution_count": 6,
   "id": "e95d71f3",
   "metadata": {},
   "outputs": [],
   "source": [
    "class mydata:\n",
    "    def __init__(self,n,a):\n",
    "        self.name = n\n",
    "        self.age = a\n",
    "    def details(self):\n",
    "        print(self.name,self.age)"
   ]
  },
  {
   "cell_type": "code",
   "execution_count": 7,
   "id": "91be00eb",
   "metadata": {},
   "outputs": [],
   "source": [
    "c1= mydata(\"dhruv\" , 19)"
   ]
  },
  {
   "cell_type": "code",
   "execution_count": 10,
   "id": "f675ad74",
   "metadata": {},
   "outputs": [
    {
     "name": "stdout",
     "output_type": "stream",
     "text": [
      "dhruv 19\n",
      "19\n",
      "dhruv\n"
     ]
    }
   ],
   "source": [
    "c1.details()\n",
    "print(c1.age)\n",
    "print(c1.name)"
   ]
  },
  {
   "cell_type": "markdown",
   "id": "cc4384dc",
   "metadata": {},
   "source": [
    "Q4. Why self is used in OOPs?"
   ]
  },
  {
   "cell_type": "code",
   "execution_count": null,
   "id": "eb519014",
   "metadata": {},
   "outputs": [],
   "source": [
    "# self used to represent the current instance of class \n",
    "# means we have one class \n",
    "# but we can create many object of that class \n",
    "# so self is used to represent the current instance of that class "
   ]
  },
  {
   "cell_type": "code",
   "execution_count": null,
   "id": "140664a9",
   "metadata": {},
   "outputs": [],
   "source": [
    "class mydata:\n",
    "    def __init__(self,n,a):\n",
    "        self.name = n\n",
    "        self.age = a\n",
    "    def details(self):\n",
    "        print(self.name,self.age)"
   ]
  },
  {
   "cell_type": "code",
   "execution_count": 13,
   "id": "4fb04eb4",
   "metadata": {},
   "outputs": [
    {
     "name": "stdout",
     "output_type": "stream",
     "text": [
      "dhruv 19\n",
      "ved 19\n"
     ]
    }
   ],
   "source": [
    "c1= mydata(\"dhruv\" , 19)\n",
    "c2= mydata(\"ved\" , 19)\n",
    "c1.details()\n",
    "c2.details()\n"
   ]
  },
  {
   "cell_type": "markdown",
   "id": "1827b657",
   "metadata": {},
   "source": [
    "Q5. What is inheritance? Give an example for each type of inheritance."
   ]
  },
  {
   "cell_type": "code",
   "execution_count": 14,
   "id": "b178c511",
   "metadata": {},
   "outputs": [],
   "source": [
    "# inheritance means there is a parent class and there is sub class or child class \n",
    "# so child class can inherit property of parent class \n",
    "# child class  is a class that derived from parent class \n",
    "# using inheritant property child class can access the methods or function or variable of parent class \n",
    "\n",
    "# there are five types of inheritance :\n",
    "#     1.single inheritance\n",
    "#     2.multiple inheritance\n",
    "#     3.multilevel inheritance\n",
    "#     4.hybrid inheritance\n",
    "#     5.herarchical inheritance"
   ]
  },
  {
   "cell_type": "code",
   "execution_count": 15,
   "id": "e84225cf",
   "metadata": {},
   "outputs": [
    {
     "name": "stdout",
     "output_type": "stream",
     "text": [
      "hello i am func 1 \n",
      "hello i am func 2\n",
      "hello i am func 1 \n"
     ]
    }
   ],
   "source": [
    "#  EX - 1 (single inheritance) :\n",
    "class demo1:\n",
    "    def fun1(self):\n",
    "        print(\"hello i am func 1 \")\n",
    "        \n",
    "class demo2(demo1):\n",
    "    \n",
    "    def fun2(self):\n",
    "        print(\"hello i am func 2\")\n",
    "\n",
    "\n",
    "d1  = demo1()\n",
    "d1.fun1()\n",
    "\n",
    "d2 = demo2()\n",
    "d2.fun2()\n",
    "d2.fun1()"
   ]
  },
  {
   "cell_type": "code",
   "execution_count": 17,
   "id": "ed060979",
   "metadata": {},
   "outputs": [
    {
     "name": "stdout",
     "output_type": "stream",
     "text": [
      "hello its me func3 .\n",
      "hello its me func1 .\n",
      "hello its me func2 .\n"
     ]
    }
   ],
   "source": [
    "#  EX- 2 (multilevel inheritance):\n",
    "\n",
    "class my_first:\n",
    "    def func1(self):\n",
    "        print(\"hello its me func1 .\")\n",
    "\n",
    "class my_first1(my_first):\n",
    "    \n",
    "    def func2(self):\n",
    "        print(\"hello its me func2 .\")       \n",
    "        \n",
    "class my_first2(my_first1):\n",
    "    def func3(self):\n",
    "        print(\"hello its me func3 .\")\n",
    "        \n",
    "c = my_first2()\n",
    "c.func3()\n",
    "c.func1()\n",
    "c.func2()"
   ]
  },
  {
   "cell_type": "code",
   "execution_count": 18,
   "id": "c4e638ef",
   "metadata": {},
   "outputs": [
    {
     "name": "stdout",
     "output_type": "stream",
     "text": [
      "this is a bike class\n",
      "this is a red colour\n",
      "this is a car class\n",
      "this is a black colour\n"
     ]
    }
   ],
   "source": [
    "#  EX- 3 (multiple inheritance):\n",
    "\n",
    "class vehical:\n",
    "    def car(self):\n",
    "        print(\"this is a car class\")\n",
    "    def bike(self):\n",
    "        print(\"this is a bike class\")\n",
    "        \n",
    "class colour:\n",
    "    def red(self):\n",
    "        print(\"this is a red colour\")\n",
    "    def black(self):\n",
    "        print(\"this is a black colour\")\n",
    "        \n",
    "class model(vehical , colour):\n",
    "    def thar(self):\n",
    "        self.car()\n",
    "        self.black()\n",
    "    def r1(self):\n",
    "        self.bike()\n",
    "        self.red()\n",
    "        \n",
    "m1 = model()\n",
    "m1.r1()\n",
    "\n",
    "m1.thar()"
   ]
  },
  {
   "cell_type": "code",
   "execution_count": 20,
   "id": "b9807107",
   "metadata": {},
   "outputs": [
    {
     "name": "stdout",
     "output_type": "stream",
     "text": [
      "hellooo bachooo\n",
      "i am in data science master batch 2.O\n",
      "i am in java course \n"
     ]
    }
   ],
   "source": [
    "# ( EX--4  hybrid inheritance) :\n",
    "\n",
    "class pwskills11:\n",
    "    def m1(self):\n",
    "        print(\"hellooo bachooo\")\n",
    "        \n",
    "class st1(pwskills11):\n",
    "    def s1(self):\n",
    "        print(\"i am in data science master batch 2.O\")\n",
    "        \n",
    "class st2(pwskills11):\n",
    "    def s2(self):\n",
    "        print(\"i am in data science master batch 1.O\")\n",
    "\n",
    "class st3(st1,pwskills11):\n",
    "    def s3(self):\n",
    "        print(\"i am in java course \")\n",
    "        \n",
    "        \n",
    "dhruv = st3()\n",
    "dhruv.m1()\n",
    "dhruv.s1()\n",
    "dhruv.s3()"
   ]
  },
  {
   "cell_type": "code",
   "execution_count": 21,
   "id": "d93eb8f8",
   "metadata": {},
   "outputs": [
    {
     "name": "stdout",
     "output_type": "stream",
     "text": [
      "i am a parent class\n",
      "i am first child \n",
      "i am a parent class\n",
      "i am second child\n"
     ]
    }
   ],
   "source": [
    "# (EX -- 5  - herarchical inheritance)\n",
    "\n",
    "class p:\n",
    "    def m1(self):\n",
    "        print(\"i am a parent class\")\n",
    "        \n",
    "class c1(p):\n",
    "    def m2(self):\n",
    "        print(\"i am first child \")\n",
    "        \n",
    "class c2(p):\n",
    "    def m3(self):\n",
    "        print(\"i am second child\")\n",
    "        \n",
    "obj1 = c1()\n",
    "obj2 = c2()\n",
    "\n",
    "obj1.m1()\n",
    "obj1.m2()\n",
    "\n",
    "obj2.m1()\n",
    "obj2.m3()"
   ]
  },
  {
   "cell_type": "code",
   "execution_count": null,
   "id": "5788172e",
   "metadata": {},
   "outputs": [],
   "source": []
  }
 ],
 "metadata": {
  "kernelspec": {
   "display_name": "Python 3 (ipykernel)",
   "language": "python",
   "name": "python3"
  },
  "language_info": {
   "codemirror_mode": {
    "name": "ipython",
    "version": 3
   },
   "file_extension": ".py",
   "mimetype": "text/x-python",
   "name": "python",
   "nbconvert_exporter": "python",
   "pygments_lexer": "ipython3",
   "version": "3.9.7"
  }
 },
 "nbformat": 4,
 "nbformat_minor": 5
}
